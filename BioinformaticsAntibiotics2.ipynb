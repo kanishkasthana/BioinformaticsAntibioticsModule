{
 "cells": [
  {
   "cell_type": "markdown",
   "metadata": {},
   "source": [
    "Notebook for second problem"
   ]
  },
  {
   "cell_type": "code",
   "execution_count": 1,
   "metadata": {
    "collapsed": false
   },
   "outputs": [],
   "source": [
    "import pandas as pd"
   ]
  },
  {
   "cell_type": "markdown",
   "metadata": {},
   "source": [
    "Reading in Data and storing codon to aminoacid mapping in a dictionary."
   ]
  },
  {
   "cell_type": "code",
   "execution_count": 2,
   "metadata": {
    "collapsed": false
   },
   "outputs": [
    {
     "data": {
      "text/html": [
       "<div>\n",
       "<table border=\"1\" class=\"dataframe\">\n",
       "  <thead>\n",
       "    <tr style=\"text-align: right;\">\n",
       "      <th></th>\n",
       "      <th>0</th>\n",
       "      <th>1</th>\n",
       "    </tr>\n",
       "  </thead>\n",
       "  <tbody>\n",
       "    <tr>\n",
       "      <th>0</th>\n",
       "      <td>AAA</td>\n",
       "      <td>K</td>\n",
       "    </tr>\n",
       "    <tr>\n",
       "      <th>1</th>\n",
       "      <td>AAC</td>\n",
       "      <td>N</td>\n",
       "    </tr>\n",
       "    <tr>\n",
       "      <th>2</th>\n",
       "      <td>AAG</td>\n",
       "      <td>K</td>\n",
       "    </tr>\n",
       "    <tr>\n",
       "      <th>3</th>\n",
       "      <td>AAU</td>\n",
       "      <td>N</td>\n",
       "    </tr>\n",
       "    <tr>\n",
       "      <th>4</th>\n",
       "      <td>ACA</td>\n",
       "      <td>T</td>\n",
       "    </tr>\n",
       "  </tbody>\n",
       "</table>\n",
       "</div>"
      ],
      "text/plain": [
       "     0  1\n",
       "0  AAA  K\n",
       "1  AAC  N\n",
       "2  AAG  K\n",
       "3  AAU  N\n",
       "4  ACA  T"
      ]
     },
     "execution_count": 2,
     "metadata": {},
     "output_type": "execute_result"
    }
   ],
   "source": [
    "codonData=pd.read_table(\"RNA_codon_table_1.txt\",sep=\" \",header=None)\n",
    "codonData.head()"
   ]
  },
  {
   "cell_type": "markdown",
   "metadata": {},
   "source": [
    "Getting codon mappings to protein"
   ]
  },
  {
   "cell_type": "code",
   "execution_count": 3,
   "metadata": {
    "collapsed": true
   },
   "outputs": [],
   "source": [
    "def getCodonMappings(row,mappings={}):\n",
    "    '''Gets the DNA codon to corresponding Amino Acid mappings and stores it in a Dictionary'''\n",
    "    val=row[0].replace('U','T')\n",
    "    mappings[val]=row[1]\n",
    "#Hashtable to store mappings\n",
    "geneticCode={}\n",
    "#Applying function to dataframe to get mappings\n",
    "codonData.apply(getCodonMappings,mappings=geneticCode,axis=1);#Semicolon suppresses output"
   ]
  },
  {
   "cell_type": "markdown",
   "metadata": {},
   "source": [
    "Defining method for getting reverseComplement of DNA"
   ]
  },
  {
   "cell_type": "code",
   "execution_count": 4,
   "metadata": {
    "collapsed": false
   },
   "outputs": [],
   "source": [
    "reverseBases={'A':'T','T':'A','G':'C','C':'G'}\n",
    "def getReverseComplement(inputDNA):\n",
    "    '''Gets the reverse complement of a given DNA string'''\n",
    "    reverseDNA=\"\"\n",
    "    for base in inputDNA[::-1]:\n",
    "        reverseDNA+=reverseBases[base]\n",
    "    return(reverseDNA)        "
   ]
  },
  {
   "cell_type": "markdown",
   "metadata": {},
   "source": [
    "Testing reverseComplement function"
   ]
  },
  {
   "cell_type": "code",
   "execution_count": 5,
   "metadata": {
    "collapsed": false
   },
   "outputs": [
    {
     "data": {
      "text/plain": [
       "'GCAT'"
      ]
     },
     "execution_count": 5,
     "metadata": {},
     "output_type": "execute_result"
    }
   ],
   "source": [
    "getReverseComplement(\"ATGC\")"
   ]
  },
  {
   "cell_type": "markdown",
   "metadata": {},
   "source": [
    "Reading input file"
   ]
  },
  {
   "cell_type": "code",
   "execution_count": 6,
   "metadata": {
    "collapsed": true
   },
   "outputs": [],
   "source": [
    "inputFile=open(\"dataset_96_8.txt\")\n",
    "inputLines=inputFile.read().splitlines()\n",
    "inputDNA=inputLines[0].strip()\n",
    "candidatePeptide=inputLines[1].strip()"
   ]
  },
  {
   "cell_type": "markdown",
   "metadata": {},
   "source": [
    "Printing an excerpt to check"
   ]
  },
  {
   "cell_type": "code",
   "execution_count": 7,
   "metadata": {
    "collapsed": false
   },
   "outputs": [
    {
     "name": "stdout",
     "output_type": "stream",
     "text": [
      "GCAGGCTAC\n",
      "FFCCSCDF\n"
     ]
    }
   ],
   "source": [
    "print(inputDNA[1:10])\n",
    "print(candidatePeptide)"
   ]
  },
  {
   "cell_type": "markdown",
   "metadata": {},
   "source": [
    "Defining all the high level methods required to get what I want"
   ]
  },
  {
   "cell_type": "code",
   "execution_count": 8,
   "metadata": {
    "collapsed": true
   },
   "outputs": [],
   "source": [
    "def getTranslatedProtein(inputText,geneticCode):\n",
    "    '''Converts a given DNA sequence into its corresponding peptide sequence using the genetic code\n",
    "    '''\n",
    "    codonLocationTuples=zip(range(0,len(inputText)-3+1,3),range(3,len(inputText)+1,3))\n",
    "    outputString=\"\"\n",
    "    for locs in codonLocationTuples:\n",
    "        codon=(inputText[locs[0]:locs[1]])\n",
    "        translatedCodon=geneticCode[codon]\n",
    "        #If we encounter a stop codon we stop translation of genetic code\n",
    "        if type(translatedCodon) is float:\n",
    "            break\n",
    "        else:\n",
    "            outputString+=geneticCode[codon]\n",
    "    return(outputString)\n",
    "\n",
    "def getReturnSequences(inputDNA,peptide):\n",
    "    '''Returns the return DNA sequences for all 3 forward reading frames on inputDNA \n",
    "    '''\n",
    "    returnSequences=[]\n",
    "    lengthofDNA=len(peptide)*3\n",
    "    startIndices=range(0,len(inputDNA)-lengthofDNA+1)\n",
    "    endIndices=range(lengthofDNA,len(inputDNA)+1)\n",
    "    startandEndPairs=zip(startIndices,endIndices)\n",
    "    for pairs in startandEndPairs:\n",
    "        dna=inputDNA[pairs[0]:pairs[1]]\n",
    "        translatedPeptide=getTranslatedProtein(dna,geneticCode)\n",
    "        if translatedPeptide==peptide:\n",
    "            returnSequences.append(dna)\n",
    "    return(returnSequences)"
   ]
  },
  {
   "cell_type": "markdown",
   "metadata": {},
   "source": [
    "Opening output file for writing"
   ]
  },
  {
   "cell_type": "code",
   "execution_count": 9,
   "metadata": {
    "collapsed": true
   },
   "outputs": [],
   "source": [
    "outputFile=open(\"output.txt\",'w')"
   ]
  },
  {
   "cell_type": "markdown",
   "metadata": {},
   "source": [
    "Writting results for forward matching sequences found for forward strand"
   ]
  },
  {
   "cell_type": "code",
   "execution_count": 10,
   "metadata": {
    "collapsed": false
   },
   "outputs": [],
   "source": [
    "forwardSequences=getReturnSequences(inputDNA,candidatePeptide)\n",
    "for seq in forwardSequences:\n",
    "    outputFile.write(seq+\"\\n\")"
   ]
  },
  {
   "cell_type": "markdown",
   "metadata": {},
   "source": [
    "Writting results for reverse matching sequences found in reverse strand"
   ]
  },
  {
   "cell_type": "code",
   "execution_count": 11,
   "metadata": {
    "collapsed": false
   },
   "outputs": [],
   "source": [
    "reverseSequences=getReturnSequences(getReverseComplement(inputDNA),candidatePeptide)\n",
    "for seq in reverseSequences:\n",
    "    outputFile.write(getReverseComplement(seq)+\"\\n\")"
   ]
  },
  {
   "cell_type": "markdown",
   "metadata": {},
   "source": [
    "Closing input and output files"
   ]
  },
  {
   "cell_type": "code",
   "execution_count": 12,
   "metadata": {
    "collapsed": false
   },
   "outputs": [],
   "source": [
    "outputFile.close()\n",
    "inputFile.close()"
   ]
  }
 ],
 "metadata": {
  "kernelspec": {
   "display_name": "Python 3",
   "language": "python",
   "name": "python3"
  },
  "language_info": {
   "codemirror_mode": {
    "name": "ipython",
    "version": 3
   },
   "file_extension": ".py",
   "mimetype": "text/x-python",
   "name": "python",
   "nbconvert_exporter": "python",
   "pygments_lexer": "ipython3",
   "version": "3.5.0"
  }
 },
 "nbformat": 4,
 "nbformat_minor": 0
}
