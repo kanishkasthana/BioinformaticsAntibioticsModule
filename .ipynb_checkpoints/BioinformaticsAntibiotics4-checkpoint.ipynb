{
 "cells": [
  {
   "cell_type": "markdown",
   "metadata": {},
   "source": [
    "Notebook for theoretical spectrum generation for a cyclical peptide problem"
   ]
  },
  {
   "cell_type": "code",
   "execution_count": 1,
   "metadata": {
    "collapsed": true
   },
   "outputs": [],
   "source": [
    "#Reading file with Stored integer masses\n",
    "integerMassesFile=open(\"integer_mass_table.txt\")\n",
    "integerMassesRows=integerMassesFile.read().splitlines()\n",
    "#Storing Values in Dictionary\n",
    "massMap={}\n",
    "for row in integerMassesRows:\n",
    "    aminoAcid, mass=row.split()\n",
    "    mass=int(mass)\n",
    "    massMap[aminoAcid]=mass"
   ]
  },
  {
   "cell_type": "markdown",
   "metadata": {},
   "source": [
    "Defining method to get circular spectrum"
   ]
  },
  {
   "cell_type": "code",
   "execution_count": 2,
   "metadata": {
    "collapsed": true
   },
   "outputs": [],
   "source": [
    "def circularSpectrum(peptide,massMap):\n",
    "    prefixMass=[0]\n",
    "    for i in range(0,len(peptide)):\n",
    "        aminoAcid=peptide[i]\n",
    "        newPrefixMass=prefixMass[i]+massMap[aminoAcid]\n",
    "        prefixMass.append(newPrefixMass)\n",
    "    peptideMass=prefixMass[len(peptide)]\n",
    "    circularSpectrum=[0]\n",
    "    for i in range(0, len(peptide)):\n",
    "        for j in range(i+1,len(peptide)+1):\n",
    "            circularSpectrum.append(prefixMass[j]-prefixMass[i])\n",
    "            if i>0 and j<len(peptide):\n",
    "                circularSpectrum.append(peptideMass-(prefixMass[j]-prefixMass[i]))\n",
    "    return(sorted(circularSpectrum))"
   ]
  },
  {
   "cell_type": "markdown",
   "metadata": {},
   "source": [
    "Testing output from defined function"
   ]
  },
  {
   "cell_type": "code",
   "execution_count": 3,
   "metadata": {
    "collapsed": false
   },
   "outputs": [
    {
     "name": "stdout",
     "output_type": "stream",
     "text": [
      "[0, 113, 114, 128, 129, 227, 242, 242, 257, 355, 356, 370, 371, 484]\n"
     ]
    }
   ],
   "source": [
    "output=circularSpectrum(\"NQEL\",massMap)\n",
    "print(output)"
   ]
  },
  {
   "cell_type": "markdown",
   "metadata": {},
   "source": [
    "Reading input file and writing output"
   ]
  },
  {
   "cell_type": "code",
   "execution_count": 4,
   "metadata": {
    "collapsed": true
   },
   "outputs": [],
   "source": [
    "inputFile=open(\"dataset_98_4.txt\")\n",
    "outputFile=open(\"output.txt\",'w')\n",
    "peptide=inputFile.read().strip()\n",
    "output=circularSpectrum(peptide,massMap)\n",
    "outputFile.write(\" \".join(map(str,output)))\n",
    "inputFile.close()\n",
    "outputFile.close()"
   ]
  }
 ],
 "metadata": {
  "kernelspec": {
   "display_name": "Python 3",
   "language": "python",
   "name": "python3"
  },
  "language_info": {
   "codemirror_mode": {
    "name": "ipython",
    "version": 3
   },
   "file_extension": ".py",
   "mimetype": "text/x-python",
   "name": "python",
   "nbconvert_exporter": "python",
   "pygments_lexer": "ipython3",
   "version": "3.5.0"
  }
 },
 "nbformat": 4,
 "nbformat_minor": 0
}
