{
 "cells": [
  {
   "cell_type": "markdown",
   "metadata": {},
   "source": [
    "Notebook for second problem"
   ]
  },
  {
   "cell_type": "code",
   "execution_count": 28,
   "metadata": {
    "collapsed": true
   },
   "outputs": [],
   "source": [
    "ts=zip(range(1,10),range(11,20))"
   ]
  },
  {
   "cell_type": "code",
   "execution_count": 31,
   "metadata": {
    "collapsed": false
   },
   "outputs": [
    {
     "name": "stdout",
     "output_type": "stream",
     "text": [
      "There was no premature break\n"
     ]
    }
   ],
   "source": [
    "for t in ts:\n",
    "    print(t)\n",
    "else:\n",
    "    print(\"There was no premature break\") #This is interesting. This part of the code executes only when the loop completes "
   ]
  },
  {
   "cell_type": "code",
   "execution_count": 44,
   "metadata": {
    "collapsed": false
   },
   "outputs": [
    {
     "data": {
      "text/plain": [
       "[(0, 3), (3, 6), (6, 9)]"
      ]
     },
     "execution_count": 44,
     "metadata": {},
     "output_type": "execute_result"
    }
   ],
   "source": [
    "tps=[(start,end) for start in range(0,9,3) for end in range(3,10,3)]\n",
    "#print(tps)\n",
    "#Interesting this is not a substitute for zip\n",
    "tpsz=zip(range(0,9,3),range(3,10,3))\n",
    "#print(list(tpsz))\n",
    "#Also it seems like the Jupyter notebook spews out the last variable and not all the variables in the cell\n",
    "tps\n",
    "list(iter(tpsz))\n",
    "#tps"
   ]
  },
  {
   "cell_type": "code",
   "execution_count": null,
   "metadata": {
    "collapsed": true
   },
   "outputs": [],
   "source": []
  }
 ],
 "metadata": {
  "kernelspec": {
   "display_name": "Python 3",
   "language": "python",
   "name": "python3"
  },
  "language_info": {
   "codemirror_mode": {
    "name": "ipython",
    "version": 3
   },
   "file_extension": ".py",
   "mimetype": "text/x-python",
   "name": "python",
   "nbconvert_exporter": "python",
   "pygments_lexer": "ipython3",
   "version": "3.5.0"
  }
 },
 "nbformat": 4,
 "nbformat_minor": 0
}
