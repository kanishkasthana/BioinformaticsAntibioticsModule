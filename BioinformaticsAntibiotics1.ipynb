{
 "cells": [
  {
   "cell_type": "markdown",
   "metadata": {},
   "source": [
    "Notebook for First Problem\n",
    "This code can later and might be later exported as a python file for reuse by other programs"
   ]
  },
  {
   "cell_type": "code",
   "execution_count": 1,
   "metadata": {
    "collapsed": true
   },
   "outputs": [],
   "source": [
    "import pandas as pd"
   ]
  },
  {
   "cell_type": "code",
   "execution_count": 2,
   "metadata": {
    "collapsed": false
   },
   "outputs": [
    {
     "data": {
      "text/html": [
       "<div>\n",
       "<table border=\"1\" class=\"dataframe\">\n",
       "  <thead>\n",
       "    <tr style=\"text-align: right;\">\n",
       "      <th></th>\n",
       "      <th>0</th>\n",
       "      <th>1</th>\n",
       "    </tr>\n",
       "  </thead>\n",
       "  <tbody>\n",
       "    <tr>\n",
       "      <th>0</th>\n",
       "      <td>AAA</td>\n",
       "      <td>K</td>\n",
       "    </tr>\n",
       "    <tr>\n",
       "      <th>1</th>\n",
       "      <td>AAC</td>\n",
       "      <td>N</td>\n",
       "    </tr>\n",
       "    <tr>\n",
       "      <th>2</th>\n",
       "      <td>AAG</td>\n",
       "      <td>K</td>\n",
       "    </tr>\n",
       "    <tr>\n",
       "      <th>3</th>\n",
       "      <td>AAU</td>\n",
       "      <td>N</td>\n",
       "    </tr>\n",
       "    <tr>\n",
       "      <th>4</th>\n",
       "      <td>ACA</td>\n",
       "      <td>T</td>\n",
       "    </tr>\n",
       "  </tbody>\n",
       "</table>\n",
       "</div>"
      ],
      "text/plain": [
       "     0  1\n",
       "0  AAA  K\n",
       "1  AAC  N\n",
       "2  AAG  K\n",
       "3  AAU  N\n",
       "4  ACA  T"
      ]
     },
     "execution_count": 2,
     "metadata": {},
     "output_type": "execute_result"
    }
   ],
   "source": [
    "#Reading in Data and storing codon to aminoacid mapping in a dictionary.\n",
    "codonData=pd.read_table(\"RNA_codon_table_1.txt\",sep=\" \",header=None)\n",
    "codonData.head()"
   ]
  },
  {
   "cell_type": "code",
   "execution_count": 3,
   "metadata": {
    "collapsed": false
   },
   "outputs": [],
   "source": [
    "#Defining Function to get Mapping from Pandas dataframe\n",
    "def getCodonMappings(row,mappings={}):\n",
    "    mappings[row[0]]=row[1]\n",
    "#Hashtable to store mappings\n",
    "geneticCode={}\n",
    "#Applying function to dataframe to get mappings\n",
    "codonData.apply(getCodonMappings,mappings=geneticCode,axis=1);#Semicolon suppresses output"
   ]
  },
  {
   "cell_type": "markdown",
   "metadata": {},
   "source": [
    "Reading in input file for the problem"
   ]
  },
  {
   "cell_type": "code",
   "execution_count": 4,
   "metadata": {
    "collapsed": false
   },
   "outputs": [
    {
     "name": "stdout",
     "output_type": "stream",
     "text": [
      "AUGCUCCUGA\n"
     ]
    }
   ],
   "source": [
    "inputFile=open(\"dataset_96_5.txt\")\n",
    "inputText=inputFile.read()\n",
    "#Printing out a snippet everything seems fine\n",
    "print(inputText[0:10])"
   ]
  },
  {
   "cell_type": "code",
   "execution_count": 5,
   "metadata": {
    "collapsed": false
   },
   "outputs": [
    {
     "name": "stdout",
     "output_type": "stream",
     "text": [
      "MLLRHPDKIE\n"
     ]
    }
   ],
   "source": [
    "#Creating a list of tuples with the start and end coordinate of each codon stored in each tuple.\n",
    "codonLocationTuples=zip(range(0,len(inputText)-1,3),range(3,len(inputText),3))\n",
    "outputString=\"\"\n",
    "for locs in codonLocationTuples:\n",
    "    codon=(inputText[locs[0]:locs[1]])\n",
    "    translatedCodon=geneticCode[codon]\n",
    "    #If we encounter a stop codon we stop translation of genetic code\n",
    "    if type(translatedCodon) is float:\n",
    "        break\n",
    "    else:\n",
    "        outputString+=geneticCode[codon]\n",
    "print(outputString[0:10])#printing a snipped to see if everything is ok"
   ]
  },
  {
   "cell_type": "markdown",
   "metadata": {},
   "source": [
    "Writing output file. This was kind of easy compared to Java. It would have taken me way longer if I used Java. Nice"
   ]
  },
  {
   "cell_type": "code",
   "execution_count": 6,
   "metadata": {
    "collapsed": false
   },
   "outputs": [],
   "source": [
    "outputFile=open(\"output.txt\",'w')\n",
    "outputFile.write(outputString)\n",
    "#The write is not complete unless you close the file properly as in here. Make sure you do that\n",
    "outputFile.close()\n",
    "inputFile.close()"
   ]
  }
 ],
 "metadata": {
  "kernelspec": {
   "display_name": "Python 3",
   "language": "python",
   "name": "python3"
  },
  "language_info": {
   "codemirror_mode": {
    "name": "ipython",
    "version": 3
   },
   "file_extension": ".py",
   "mimetype": "text/x-python",
   "name": "python",
   "nbconvert_exporter": "python",
   "pygments_lexer": "ipython3",
   "version": "3.5.0"
  }
 },
 "nbformat": 4,
 "nbformat_minor": 0
}
