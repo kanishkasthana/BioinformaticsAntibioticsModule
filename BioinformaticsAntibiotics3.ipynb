{
 "cells": [
  {
   "cell_type": "markdown",
   "metadata": {},
   "source": [
    "Notebook for CS Detour 1"
   ]
  },
  {
   "cell_type": "code",
   "execution_count": 2,
   "metadata": {
    "collapsed": false
   },
   "outputs": [],
   "source": [
    "#Reading file with Stored integer masses\n",
    "integerMassesFile=open(\"integer_mass_table.txt\")\n",
    "integerMassesRows=integerMassesFile.read().splitlines()\n",
    "#Storing Values in Dictionary\n",
    "massMap={}\n",
    "for row in integerMassesRows:\n",
    "    aminoAcid, mass=row.split()\n",
    "    mass=int(mass)\n",
    "    massMap[aminoAcid]=mass"
   ]
  },
  {
   "cell_type": "markdown",
   "metadata": {},
   "source": [
    "Defining Method to get Linear Spectrum"
   ]
  },
  {
   "cell_type": "code",
   "execution_count": 13,
   "metadata": {
    "collapsed": false
   },
   "outputs": [],
   "source": [
    "def linearSpectrum(peptide,massMap):\n",
    "    prefixMass=[0]\n",
    "    for i in range(0,len(peptide)):\n",
    "        aminoAcid=peptide[i]\n",
    "        newPrefixMass=prefixMass[i]+massMap[aminoAcid]\n",
    "        prefixMass.append(newPrefixMass)\n",
    "    linearSpectrum=[0]\n",
    "    for i in range(0, len(peptide)):\n",
    "        for j in range(i+1,len(peptide)+1):\n",
    "            linearSpectrum.append(prefixMass[j]-prefixMass[i])\n",
    "    return(sorted(linearSpectrum))"
   ]
  },
  {
   "cell_type": "markdown",
   "metadata": {},
   "source": [
    "Reading input file for linear spectrum generation and opening output file for result"
   ]
  },
  {
   "cell_type": "code",
   "execution_count": 16,
   "metadata": {
    "collapsed": false
   },
   "outputs": [],
   "source": [
    "inputFile=open(\"dataset_4912_2.txt\")\n",
    "outputFile=open(\"output.txt\",'w')\n",
    "peptide=inputFile.read().strip()\n",
    "output=linearSpectrum(peptide,massMap)\n",
    "outputFile.write(\" \".join(map(str,output)))\n",
    "inputFile.close()\n",
    "outputFile.close()"
   ]
  }
 ],
 "metadata": {
  "kernelspec": {
   "display_name": "Python 3",
   "language": "python",
   "name": "python3"
  },
  "language_info": {
   "codemirror_mode": {
    "name": "ipython",
    "version": 3
   },
   "file_extension": ".py",
   "mimetype": "text/x-python",
   "name": "python",
   "nbconvert_exporter": "python",
   "pygments_lexer": "ipython3",
   "version": "3.5.0"
  }
 },
 "nbformat": 4,
 "nbformat_minor": 0
}
